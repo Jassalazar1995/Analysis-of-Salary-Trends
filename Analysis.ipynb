{
 "cells": [
  {
   "cell_type": "code",
   "execution_count": 181,
   "metadata": {},
   "outputs": [],
   "source": [
    "import pandas as pd\n",
    "import numpy as np\n",
    "import pipe\n",
    "from pipe import where\n",
    "import seaborn as sns\n",
    "import matplotlib.pyplot as plt\n",
    "import scipy.stats as stats\n",
    "from scipy.stats import skew, kurtosis"
   ]
  },
  {
   "cell_type": "code",
   "execution_count": 182,
   "metadata": {},
   "outputs": [],
   "source": [
    "# Tools\n",
    "def range(series):\n",
    "    return series.max() - series.min()"
   ]
  },
  {
   "cell_type": "code",
   "execution_count": 183,
   "metadata": {},
   "outputs": [
    {
     "name": "stdout",
     "output_type": "stream",
     "text": [
      "<class 'pandas.core.frame.DataFrame'>\n",
      "RangeIndex: 9355 entries, 0 to 9354\n",
      "Data columns (total 12 columns):\n",
      " #   Column              Non-Null Count  Dtype \n",
      "---  ------              --------------  ----- \n",
      " 0   work_year           9355 non-null   int64 \n",
      " 1   job_title           9355 non-null   object\n",
      " 2   job_category        9355 non-null   object\n",
      " 3   salary_currency     9355 non-null   object\n",
      " 4   salary              9355 non-null   int64 \n",
      " 5   salary_in_usd       9355 non-null   int64 \n",
      " 6   employee_residence  9355 non-null   object\n",
      " 7   experience_level    9355 non-null   object\n",
      " 8   employment_type     9355 non-null   object\n",
      " 9   work_setting        9355 non-null   object\n",
      " 10  company_location    9355 non-null   object\n",
      " 11  company_size        9355 non-null   object\n",
      "dtypes: int64(3), object(9)\n",
      "memory usage: 877.2+ KB\n"
     ]
    }
   ],
   "source": [
    "# Loading the data and taking a brief overview\n",
    "data = pd.read_csv('./jobs_in_data.csv')\n",
    "data = pd.DataFrame(data)\n",
    "data.info() # We can see there are no null values"
   ]
  },
  {
   "cell_type": "code",
   "execution_count": 184,
   "metadata": {},
   "outputs": [
    {
     "name": "stdout",
     "output_type": "stream",
     "text": [
      "Looking at this info spread we can see that there are no null values\n"
     ]
    }
   ],
   "source": [
    "print('Looking at this info spread we can see that there are no null values')"
   ]
  },
  {
   "cell_type": "code",
   "execution_count": 185,
   "metadata": {},
   "outputs": [
    {
     "name": "stdout",
     "output_type": "stream",
     "text": [
      "The year span is 3 starting from 2020\n"
     ]
    }
   ],
   "source": [
    "# Understanding the time frame of this data\n",
    "type(data.work_year)\n",
    "print('The year span is' , range(data.work_year) , 'starting from' , data.work_year.min() )"
   ]
  },
  {
   "cell_type": "code",
   "execution_count": 186,
   "metadata": {},
   "outputs": [
    {
     "name": "stdout",
     "output_type": "stream",
     "text": [
      "The mean is 150299.0 \n",
      "The median is 143000.0 \n",
      "The standard deviation is  63173.0 \n",
      "The lower fence is 105700.0 \n",
      "The upper fence is 186723.0\n"
     ]
    }
   ],
   "source": [
    "#Looking at the 5 num description for salaries across the world\n",
    "print('The mean is',np.floor(np.mean(data.salary_in_usd)), \n",
    "      '\\nThe median is' , np.median(data.salary_in_usd), \n",
    "      '\\nThe standard deviation is ', np.floor(np.std(data.salary_in_usd)),\n",
    "      '\\nThe lower fence is', data.salary_in_usd.quantile(0.25),\n",
    "      '\\nThe upper fence is', data.salary_in_usd.quantile(0.75)\n",
    "     )"
   ]
  },
  {
   "cell_type": "code",
   "execution_count": 187,
   "metadata": {},
   "outputs": [
    {
     "data": {
      "text/plain": [
       "Text(0.5, 1.0, 'Salaries in USD Across the World')"
      ]
     },
     "execution_count": 187,
     "metadata": {},
     "output_type": "execute_result"
    },
    {
     "data": {
      "image/png": "[encoded data removed]",
      "text/plain": [
       "<Figure size 432x288 with 1 Axes>"
      ]
     },
     "metadata": {
      "needs_background": "light"
     },
     "output_type": "display_data"
    }
   ],
   "source": [
    "# Getting a visual of the salary spread across the world\n",
    "sns.histplot(data,\n",
    "             x= \"salary_in_usd\",\n",
    "             bins= 30,\n",
    "             color='black',\n",
    "            )\n",
    "plt.title(\"Salaries in USD Across the World\", fontsize = 20)"
   ]
  },
  {
   "cell_type": "code",
   "execution_count": 188,
   "metadata": {},
   "outputs": [
    {
     "name": "stdout",
     "output_type": "stream",
     "text": [
      "So after a quick overview at the data, there are a few things of note: it is normalish (I am not worried about going further are the moment since I am going to narrow the data soon), there is a very interesting second bump near the 400k mark, there is a dip near the center of the distribution and the left side is pretty steep. So far we have included the world, but I would like to look at salaries in the United States\n"
     ]
    }
   ],
   "source": [
    "# Comment 1\n",
    "print('So after a quick overview at the data, there are a few things of note: it is normalish (I am not worried about going further are the moment since I am going to narrow the data soon), there is a very interesting second bump near the 400k mark, there is a dip near the center of the distribution and the left side is pretty steep. So far we have included the world, but I would like to look at salaries in the United States')"
   ]
  },
  {
   "cell_type": "code",
   "execution_count": 189,
   "metadata": {},
   "outputs": [
    {
     "name": "stdout",
     "output_type": "stream",
     "text": [
      "<class 'pandas.core.frame.DataFrame'>\n",
      "Int64Index: 8086 entries, 1 to 9354\n",
      "Data columns (total 12 columns):\n",
      " #   Column              Non-Null Count  Dtype \n",
      "---  ------              --------------  ----- \n",
      " 0   work_year           8086 non-null   int64 \n",
      " 1   job_title           8086 non-null   object\n",
      " 2   job_category        8086 non-null   object\n",
      " 3   salary_currency     8086 non-null   object\n",
      " 4   salary              8086 non-null   int64 \n",
      " 5   salary_in_usd       8086 non-null   int64 \n",
      " 6   employee_residence  8086 non-null   object\n",
      " 7   experience_level    8086 non-null   object\n",
      " 8   employment_type     8086 non-null   object\n",
      " 9   work_setting        8086 non-null   object\n",
      " 10  company_location    8086 non-null   object\n",
      " 11  company_size        8086 non-null   object\n",
      "dtypes: int64(3), object(9)\n",
      "memory usage: 821.2+ KB\n"
     ]
    }
   ],
   "source": [
    "# Filtering the data to see only the United States\n",
    "data.employee_residence.unique() # Checking to make sure there are no other spelling of the United States\n",
    "filtered_data = data[data['employee_residence'] == 'United States']\n",
    "filtered_data.info() # Again we can see there are no null values"
   ]
  },
  {
   "cell_type": "code",
   "execution_count": 190,
   "metadata": {},
   "outputs": [
    {
     "name": "stdout",
     "output_type": "stream",
     "text": [
      "The mean is 158586.0 \n",
      "The median is 150000.0 \n",
      "The standard deviation is  59225.0 \n",
      "The lower fence is 117625.0 \n",
      "The upper fence is 192000.0\n"
     ]
    }
   ],
   "source": [
    "#Looking at the 5 num description for salaries for the united states\n",
    "print('The mean is',np.floor(np.mean(filtered_data.salary_in_usd)), \n",
    "      '\\nThe median is' , np.median(filtered_data.salary_in_usd), \n",
    "      '\\nThe standard deviation is ', np.floor(np.std(filtered_data.salary_in_usd)),\n",
    "      '\\nThe lower fence is', filtered_data.salary_in_usd.quantile(0.25),\n",
    "      '\\nThe upper fence is', filtered_data.salary_in_usd.quantile(0.75),\n",
    "     )"
   ]
  },
  {
   "cell_type": "code",
   "execution_count": 191,
   "metadata": {},
   "outputs": [
    {
     "data": {
      "text/plain": [
       "Text(0.5, 1.0, 'Salaries in USD in the US')"
      ]
     },
     "execution_count": 191,
     "metadata": {},
     "output_type": "execute_result"
    },
    {
     "data": {
      "image/png": "[encoded data removed]",
      "text/plain": [
       "<Figure size 432x288 with 1 Axes>"
      ]
     },
     "metadata": {
      "needs_background": "light"
     },
     "output_type": "display_data"
    }
   ],
   "source": [
    "# Getting a visual of the salary spread across the world\n",
    "sns.histplot(filtered_data,\n",
    "             x= \"salary_in_usd\",\n",
    "             bins= 50,\n",
    "             color='black',\n",
    "            )\n",
    "plt.title(\"Salaries in USD in the US\", fontsize = 20)"
   ]
  },
  {
   "cell_type": "code",
   "execution_count": 192,
   "metadata": {},
   "outputs": [
    {
     "name": "stdout",
     "output_type": "stream",
     "text": [
      "So after a quick overview at the data, there are a few things of note: it is normalish, there is a very interesting second bump near the 400k mark, there seems to be a standard price of someone that works in data is 150,000 USD, it has a tail towards the right, and has a steep climb on the left. I would like to see how normal this distribution is as it will influence my analysis of it.\n"
     ]
    }
   ],
   "source": [
    "# Comment 2\n",
    "print('So after a quick overview at the data, there are a few things of note: it is normalish, there is a very interesting second bump near the 400k mark, there seems to be a standard price of someone that works in data is 150,000 USD, it has a tail towards the right, and has a steep climb on the left. I would like to see how normal this distribution is as it will influence my analysis of it.')"
   ]
  },
  {
   "cell_type": "code",
   "execution_count": 193,
   "metadata": {},
   "outputs": [
    {
     "data": {
      "image/png": "[encoded data removed]",
      "text/plain": [
       "<Figure size 432x288 with 1 Axes>"
      ]
     },
     "metadata": {
      "needs_background": "light"
     },
     "output_type": "display_data"
    },
    {
     "name": "stdout",
     "output_type": "stream",
     "text": [
      "Skewness: 0.6211916296018803\n",
      "Kurtosis: 0.5662974027614927\n"
     ]
    }
   ],
   "source": [
    "stats.probplot(filtered_data['salary_in_usd'], dist=\"norm\", plot=plt)\n",
    "plt.title(\"Q-Q Plot of Salaries in the US \")\n",
    "plt.show()\n",
    "\n",
    "\n",
    "\n",
    "# Calculate skewness\n",
    "skewness = skew(data['salary_in_usd'])\n",
    "\n",
    "# Calculate kurtosis\n",
    "kurt = kurtosis(data['salary_in_usd'])\n",
    "\n",
    "print(\"Skewness:\", skewness)\n",
    "print(\"Kurtosis:\", kurt)"
   ]
  },
  {
   "cell_type": "code",
   "execution_count": 194,
   "metadata": {},
   "outputs": [
    {
     "name": "stdout",
     "output_type": "stream",
     "text": [
      "So by looking at the Q-Q plot I know that it is not Guassian, which is unfortunate but manageable. I took a look at the skewness(width/pancakifcation) and Kurtosis (height/spaghettification) to understand how to properly classify it. \n",
      "Since skew is positive we know its right skewed,\n",
      "Since kurtosis is positive we know there are more outliers than normal. \n",
      "In other words its wide and leaning to the right. This is important to know as it will influence what kind of tests and methods we can and cannot use on this data. In context, this means that there are more people getting paid higher than 150000 USD than not. I would like t explore the data a little further, specifically starting to look into different career paths.\n"
     ]
    }
   ],
   "source": [
    "# Comment 3\n",
    "print('So by looking at the Q-Q plot I know that it is not Guassian, which is unfortunate but manageable. I took a look at the skewness(width/pancakifcation) and Kurtosis (height/spaghettification) to understand how to properly classify it. \\nSince skew is positive we know its right skewed,\\nSince kurtosis is positive we know there are more outliers than normal. \\nIn other words its wide and leaning to the right. This is important to know as it will influence what kind of tests and methods we can and cannot use on this data. In context, this means that there are more people getting paid higher than 150000 USD than not. I would like t explore the data a little further, specifically starting to look into different career paths.')"
   ]
  },
  {
   "cell_type": "code",
   "execution_count": 195,
   "metadata": {},
   "outputs": [
    {
     "name": "stdout",
     "output_type": "stream",
     "text": [
      "['Data Architecture and Modeling' 'Data Science and Research'\n",
      " 'Machine Learning and AI' 'Data Engineering' 'Data Analysis'\n",
      " 'Leadership and Management' 'BI and Visualization'\n",
      " 'Data Management and Strategy' 'Data Quality and Operations'\n",
      " 'Cloud and Database']\n"
     ]
    }
   ],
   "source": [
    "# Taking a look at the different job categories that interest me\n",
    "print(filtered_data.job_category.unique())"
   ]
  },
  {
   "cell_type": "code",
   "execution_count": 196,
   "metadata": {},
   "outputs": [
    {
     "name": "stdout",
     "output_type": "stream",
     "text": [
      "I am really just interested in the categories of Data Analysis, Data Engineering, Machine Learning and AI, Data Science and Research\n"
     ]
    }
   ],
   "source": [
    "print('I am really just interested in the categories of Data Analysis, Data Engineering, Machine Learning and AI, Data Science and Research')"
   ]
  },
  {
   "cell_type": "code",
   "execution_count": 197,
   "metadata": {},
   "outputs": [
    {
     "name": "stdout",
     "output_type": "stream",
     "text": [
      "<class 'pandas.core.frame.DataFrame'>\n",
      "Int64Index: 7011 entries, 3 to 9354\n",
      "Data columns (total 12 columns):\n",
      " #   Column              Non-Null Count  Dtype \n",
      "---  ------              --------------  ----- \n",
      " 0   work_year           7011 non-null   int64 \n",
      " 1   job_title           7011 non-null   object\n",
      " 2   job_category        7011 non-null   object\n",
      " 3   salary_currency     7011 non-null   object\n",
      " 4   salary              7011 non-null   int64 \n",
      " 5   salary_in_usd       7011 non-null   int64 \n",
      " 6   employee_residence  7011 non-null   object\n",
      " 7   experience_level    7011 non-null   object\n",
      " 8   employment_type     7011 non-null   object\n",
      " 9   work_setting        7011 non-null   object\n",
      " 10  company_location    7011 non-null   object\n",
      " 11  company_size        7011 non-null   object\n",
      "dtypes: int64(3), object(9)\n",
      "memory usage: 712.1+ KB\n"
     ]
    }
   ],
   "source": [
    "# Filtering the data to see only entries in the categories of Data Analysis, Data Engineering, Machine Learning and AI, Data Science and Research in the United States\n",
    "filtered_data = filtered_data[(filtered_data['job_category'] == 'Data Analysis') | (filtered_data['job_category'] == 'Data Engineering') | (filtered_data['job_category'] == 'Machine Learning and AI') | (filtered_data['job_category'] == 'Data Science and Research')]\n",
    "filtered_data.info() # Again we can see there are no null values"
   ]
  },
  {
   "cell_type": "code",
   "execution_count": 198,
   "metadata": {},
   "outputs": [
    {
     "name": "stdout",
     "output_type": "stream",
     "text": [
      "The mean is 160759.0 \n",
      "The median is 151410.0 \n",
      "The standard deviation is  59573.0 \n",
      "The lower fence is 120000.0 \n",
      "The upper fence is 196000.0\n"
     ]
    }
   ],
   "source": [
    "#Looking at the 5 num description for salaries of a select catagories of jobs in the united states\n",
    "print('The mean is',np.floor(np.mean(filtered_data.salary_in_usd)), \n",
    "      '\\nThe median is' , np.median(filtered_data.salary_in_usd), \n",
    "      '\\nThe standard deviation is ', np.floor(np.std(filtered_data.salary_in_usd)),\n",
    "      '\\nThe lower fence is', filtered_data.salary_in_usd.quantile(0.25),\n",
    "      '\\nThe upper fence is', filtered_data.salary_in_usd.quantile(0.75),\n",
    "     )"
   ]
  },
  {
   "cell_type": "code",
   "execution_count": 201,
   "metadata": {},
   "outputs": [
    {
     "data": {
      "text/plain": [
       "Text(0.5, 1.0, 'Salaries in USD in the US')"
      ]
     },
     "execution_count": 201,
     "metadata": {},
     "output_type": "execute_result"
    },
    {
     "data": {
      "image/png": "[encoded data removed]",
      "text/plain": [
       "<Figure size 432x288 with 1 Axes>"
      ]
     },
     "metadata": {
      "needs_background": "light"
     },
     "output_type": "display_data"
    }
   ],
   "source": [
    "# Getting a visual of the salary spread of a select catagories of jobs in across the world\n",
    "sns.histplot(filtered_data,\n",
    "             x= \"salary_in_usd\",\n",
    "             bins= 50,\n",
    "             color='black',\n",
    "            )\n",
    "plt.title(\"Salaries in USD in the US\", fontsize = 20)\n"
   ]
  },
  {
   "cell_type": "code",
   "execution_count": 203,
   "metadata": {},
   "outputs": [
    {
     "name": "stdout",
     "output_type": "stream",
     "text": [
      "['Data Scientist' 'Machine Learning Researcher' 'Data Engineer'\n",
      " 'Machine Learning Engineer' 'Data Analyst' 'Applied Scientist'\n",
      " 'Research Scientist' 'Research Analyst' 'Research Engineer'\n",
      " 'Data Science Engineer' 'Machine Learning Scientist' 'AI Engineer'\n",
      " 'MLOps Engineer' 'Data Science Consultant' 'ML Engineer'\n",
      " 'Data Science Director' 'Machine Learning Modeler'\n",
      " 'Data Integration Engineer' 'Data Science Practitioner' 'AI Developer'\n",
      " 'AI Architect' 'Data Science Manager' 'Decision Scientist'\n",
      " 'Financial Data Analyst' 'Computer Vision Engineer'\n",
      " 'Director of Data Science' 'ETL Developer'\n",
      " 'Machine Learning Infrastructure Engineer' 'Principal Data Scientist'\n",
      " 'Data Science Lead' 'Data Infrastructure Engineer'\n",
      " 'Machine Learning Software Engineer' 'Head of Machine Learning'\n",
      " 'Business Data Analyst' 'Staff Machine Learning Engineer'\n",
      " 'Staff Data Scientist' 'Deep Learning Engineer' 'Head of Data Science'\n",
      " 'Managing Director Data Science' 'Software Data Engineer'\n",
      " 'Compliance Data Analyst' 'Business Intelligence Data Analyst'\n",
      " 'NLP Engineer' 'Product Data Analyst' 'Applied Machine Learning Engineer'\n",
      " 'Lead Data Analyst' 'BI Data Engineer'\n",
      " 'Applied Machine Learning Scientist' 'Lead Data Scientist'\n",
      " 'Principal Machine Learning Engineer' 'Data Science Tech Lead'\n",
      " 'BI Data Analyst' 'Machine Learning Manager' 'AI Scientist'\n",
      " 'Data Scientist Lead' 'Machine Learning Developer'\n",
      " 'Applied Data Scientist' 'Principal Data Engineer' 'Big Data Engineer'\n",
      " 'Computer Vision Software Engineer' 'Lead Data Engineer'\n",
      " 'Principal Data Analyst']\n"
     ]
    }
   ],
   "source": [
    "# Taking a look at the different job categories that interest me\n",
    "print(filtered_data.job_title.unique())"
   ]
  }
 ],
 "metadata": {
  "kernelspec": {
   "display_name": "Python 3",
   "language": "python",
   "name": "python3"
  },
  "language_info": {
   "codemirror_mode": {
    "name": "ipython",
    "version": 3
   },
   "file_extension": ".py",
   "mimetype": "text/x-python",
   "name": "python",
   "nbconvert_exporter": "python",
   "pygments_lexer": "ipython3",
   "version": "3.8.5"
  }
 },
 "nbformat": 4,
 "nbformat_minor": 4
}
